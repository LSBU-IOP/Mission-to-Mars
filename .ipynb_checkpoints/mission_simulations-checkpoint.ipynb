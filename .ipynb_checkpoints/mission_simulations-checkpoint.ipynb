{
 "cells": [
  {
   "cell_type": "markdown",
   "metadata": {},
   "source": [
    "## Importing libraries (useful things we'll use in the code later)"
   ]
  },
  {
   "cell_type": "code",
   "execution_count": 3,
   "metadata": {},
   "outputs": [],
   "source": [
    "%matplotlib inline\n",
    "from matplotlib import pyplot as plt\n",
    "from matplotlib import patches \n",
    "from matplotlib import animation, rc\n",
    "import matplotlib\n",
    "from IPython.display import HTML\n",
    "import numpy as np\n",
    "from scipy.integrate import solve_ivp\n",
    "import mission_functions"
   ]
  },
  {
   "cell_type": "markdown",
   "metadata": {},
   "source": [
    "## Setting up the data for our simulation"
   ]
  },
  {
   "cell_type": "code",
   "execution_count": 4,
   "metadata": {
    "scrolled": false
   },
   "outputs": [
    {
     "ename": "NameError",
     "evalue": "name 'gravity_turn' is not defined",
     "output_type": "error",
     "traceback": [
      "\u001b[1;31m---------------------------------------------------------------------------\u001b[0m",
      "\u001b[1;31mNameError\u001b[0m                                 Traceback (most recent call last)",
      "\u001b[1;32m<ipython-input-4-ea412abf9c0d>\u001b[0m in \u001b[0;36m<module>\u001b[1;34m\u001b[0m\n\u001b[0;32m     14\u001b[0m \u001b[0mm_wet\u001b[0m \u001b[1;33m=\u001b[0m \u001b[0mm_dry\u001b[0m\u001b[1;33m*\u001b[0m\u001b[0mnp\u001b[0m\u001b[1;33m.\u001b[0m\u001b[0mexp\u001b[0m\u001b[1;33m(\u001b[0m\u001b[0mdeltav\u001b[0m\u001b[1;33m/\u001b[0m\u001b[1;33m(\u001b[0m\u001b[0mISP\u001b[0m\u001b[1;33m*\u001b[0m\u001b[1;36m9.81\u001b[0m\u001b[1;33m)\u001b[0m\u001b[1;33m)\u001b[0m             \u001b[1;31m#wet-mass                             kg\u001b[0m\u001b[1;33m\u001b[0m\u001b[1;33m\u001b[0m\u001b[0m\n\u001b[0;32m     15\u001b[0m \u001b[1;33m\u001b[0m\u001b[0m\n\u001b[1;32m---> 16\u001b[1;33m \u001b[0msol\u001b[0m\u001b[1;33m=\u001b[0m\u001b[0mgravity_turn\u001b[0m\u001b[1;33m(\u001b[0m\u001b[0mdeltav\u001b[0m\u001b[1;33m,\u001b[0m\u001b[0mpitchover_angle\u001b[0m\u001b[1;33m,\u001b[0m\u001b[0mtf\u001b[0m\u001b[1;33m)\u001b[0m\u001b[1;33m\u001b[0m\u001b[1;33m\u001b[0m\u001b[0m\n\u001b[0m",
      "\u001b[1;31mNameError\u001b[0m: name 'gravity_turn' is not defined"
     ]
    }
   ],
   "source": [
    "deltav = 13.45e3                                    #delta v                              m/s\n",
    "pitchover_angle=0.44\n",
    "tf = 1000\n",
    "\n",
    "#Physical constants\n",
    "M_earth = 5.972e24                                  #mass of earth                        kg\n",
    "G = 6.67e-11                                        #universal constant of gravitation   \n",
    "#Rocket parameters\n",
    "Cd = 0.75                                           #coefficient of drag  \n",
    "A = 1                                               #cross sectional area                 m^2\n",
    "ISP = 273.0                                         #specific impulse                     s  \n",
    "ttw=1.4                                             #thrust-to-weight during launch\n",
    "m_dry = 5000                                        #dry-mass                             kg\n",
    "m_wet = m_dry*np.exp(deltav/(ISP*9.81))             #wet-mass                             kg \n",
    "\n",
    "sol=gravity_turn(deltav,pitchover_angle,tf)"
   ]
  },
  {
   "cell_type": "markdown",
   "metadata": {},
   "source": [
    "## Atmospheric Model"
   ]
  },
  {
   "cell_type": "code",
   "execution_count": null,
   "metadata": {},
   "outputs": [],
   "source": [
    "#Atmospheric model\n",
    "H = 8500.0                 #scale height                        m\n",
    "rho0 = 1.225             #air density at sea level            kg/m^3\n",
    "r0 = 6370.0e3              #Earth's radius                      m\n",
    "\n",
    "#Exponential model of air density as function of radius\n",
    "def rho(r): return rho0*np.exp(-(r-r0)/H)\n",
    "#Plot of air density against altitude\n",
    "hs = np.linspace(0,100,100)\n",
    "rhos = rho(6370e3+hs*1e3)\n",
    "plt.plot(rhos,hs)\n",
    "plt.title(\"Air Density\"),plt.xlabel(\"Density (kg/m^3)\"),plt.ylabel(\"h (km)\")\n",
    "plt.show()"
   ]
  },
  {
   "cell_type": "markdown",
   "metadata": {},
   "source": [
    "## System dynamics - the equations that we want to solve numerically\n",
    "**Don't touch this code**"
   ]
  },
  {
   "cell_type": "code",
   "execution_count": null,
   "metadata": {
    "scrolled": false
   },
   "outputs": [],
   "source": []
  }
 ],
 "metadata": {
  "kernelspec": {
   "display_name": "Python 3",
   "language": "python",
   "name": "python3"
  },
  "language_info": {
   "codemirror_mode": {
    "name": "ipython",
    "version": 3
   },
   "file_extension": ".py",
   "mimetype": "text/x-python",
   "name": "python",
   "nbconvert_exporter": "python",
   "pygments_lexer": "ipython3",
   "version": "3.7.6"
  }
 },
 "nbformat": 4,
 "nbformat_minor": 4
}
