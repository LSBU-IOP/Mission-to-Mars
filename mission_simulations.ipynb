{
 "cells": [
  {
   "cell_type": "markdown",
   "metadata": {},
   "source": [
    "## Importing libraries (useful things we'll use in the code later)"
   ]
  },
  {
   "cell_type": "code",
   "execution_count": null,
   "metadata": {},
   "outputs": [],
   "source": [
    "%matplotlib inline\n",
    "from matplotlib import pyplot as plt\n",
    "from matplotlib import patches \n",
    "from matplotlib import animation, rc\n",
    "import matplotlib\n",
    "from IPython.display import HTML\n",
    "import numpy as np\n",
    "from scipy.integrate import solve_ivp\n",
    "%run mars_functions.ipynb"
   ]
  },
  {
   "cell_type": "markdown",
   "metadata": {},
   "source": [
    "## Atmospheric Model"
   ]
  },
  {
   "cell_type": "code",
   "execution_count": null,
   "metadata": {},
   "outputs": [],
   "source": [
    "#Exponential model of air density as function of radius\n",
    "hs = np.linspace(0,100,100)\n",
    "rhos = rho(6370e3+hs*1e3)\n",
    "plt.plot(rhos,hs)\n",
    "plt.title(\"Air Density\"),plt.xlabel(\"$\\\\rho$ (kg/m^3)\"),plt.ylabel(\"h (km)\")\n",
    "plt.show()"
   ]
  },
  {
   "cell_type": "markdown",
   "metadata": {},
   "source": [
    "## Gravity-turn launch simulation \n",
    "The code below will setup and run a simulation of a gravity-turn launch trajectory. The gravity-turn is a type of launch in which a rocket is initially launched vertically to quickly gain altitude, but then pitches over slightly, usually by gimballing the rocket engine. After this small manoeuvre, the rocket will then naturally follow a curved path due to gravity, allowing the rocket to gain horizontal speed and build up the required orbital speed. In our simulation, we have launched vertically and are travelling at 252 m/s when we pitchover to the angle, which you will decide.\n",
    "\n",
    "The simulation is contained within the \"gravity_turn()\" function. The inputs to this are $\\Delta v$, pitchover angle, and tf - how long we want to run the simulation for (in simulation time, not how long the code will take to run). These inputs are given values in the first few lines of the code, and you can change the numbers here. $\\Delta v$ determines how much fuel we need to add, according to the rocket equation. You should first try your answer to Q1a) from the worksheet for $\\Delta v$, and thenexperiment with different pitchover angles. After running the cell (press ctrl-enter) plots of the trajectory are displayed, and (after waiting a while) an animation will display below that.\n",
    "\n",
    "How do different pitchover angles affect the trajectory?\n",
    "\n",
    "This simulation considers *drag*, given by $D = \\frac{1}{2}\\rho C_D A v^2$ and using the parameters given below. When is drag at its highest? When can we stop worrying about it? (Check the plot of $\\rho$ against altitude above). How will this affect the $\\Delta v$ required to get into orbit?\n",
    "\n",
    "Because of losses to gravity (due to our initial vertical trajectory) and drag, our actual $\\Delta v$ requirement is __13.45 km/s__. Try running the simulation with this value, and adjust the pitchover angle to see if you can get into orbit. How close to a perfectly circular orbit can you get? (_HINT: stick to values between 0 and 2$^\\circ$)_\n",
    "\n",
    "With this $\\Delta v$, what happens if the pitchover angle is too small? What happens if it's too large?"
   ]
  },
  {
   "cell_type": "code",
   "execution_count": null,
   "metadata": {
    "scrolled": false
   },
   "outputs": [],
   "source": [
    "#inputs: change these numbers\n",
    "deltav = 10e3                                   \n",
    "pitchover_angle=0                              \n",
    "tf = 10000                                            \n",
    "\n",
    "#Rocket parameters (don't change these at first)\n",
    "Cd = 0.75                                           #coefficient of drag  \n",
    "A = 1                                               #cross sectional area                 m^2\n",
    "ISP = 273.0                                         #specific impulse                     s  \n",
    "ttw=1.4                                             #thrust-to-weight during launch\n",
    "m_dry = 5000                                        #dry-mass                             kg\n",
    "m_wet = m_dry*np.exp(deltav/(ISP*9.81))             #wet-mass                             kg \n",
    "\n",
    "#run the simulation and plot the results\n",
    "sol=gravity_turn(deltav,pitchover_angle,tf)\n",
    "animate_trajectory(sol)"
   ]
  },
  {
   "cell_type": "markdown",
   "metadata": {},
   "source": [
    "## Hohmann Transfer Simulation\n",
    "Now that we are in LEO, we have been refueled and are ready to head to Mars. We've already performed a manoeuvre giving us the velocity required to escape from the Earth's gravity well, so now need to perform a burn to put us onto a Hohmann transfer ellipse from the Earth's orbit to Mars'. In the code below, you can specify the $\\Delta v_1$ for this burn, and the $\\Delta v_2$ for Mars capture. You can also specify how far ahead Mars is in its orbit compared to Earth (essentially this is you choosing the date that we set off). Try putting in your answers  from the worksheet running the code to simulate the trajectory.\n",
    "\n",
    "Try adjust your $\\Delta v$s to improve the transfer.\n",
    "\n",
    "The plots show the trajectories of Earth, Mars, and our spacecraft. The left plot shows the trajectory for $t_f$ days after the first manoeuvre, and the second plot for the same number of days after manoeuvre two. 259 days is the transfer time given in the worksheet, so stick with that for now. $\\Delta v_1$ is initially 0, this means that the spacecraft is travelling around the Sun at the same speed as the Earth - so the plots just show some circles. Try experimenting with different values of $\\Delta v$ for both manoeuvres to see how the trajectory changes (stick to the range of a few km/s). What happens when the $\\Delta v$ is negative?"
   ]
  },
  {
   "cell_type": "code",
   "execution_count": null,
   "metadata": {},
   "outputs": [],
   "source": [
    "#input parameters\n",
    "dv1 = 0                   #m/s\n",
    "dv2 = 0                   #m/s\n",
    "mars_leading_angle=0      #deg\n",
    "\n",
    "tf = 259                  #days\n",
    "\n",
    "full_sol,ts=hohmann_transfer(dv1,dv2,tf,mars_leading_angle)\n",
    "animate_hohmann(full_sol,ts)"
   ]
  }
 ],
 "metadata": {
  "kernelspec": {
   "display_name": "Python 3",
   "language": "python",
   "name": "python3"
  },
  "language_info": {
   "codemirror_mode": {
    "name": "ipython",
    "version": 3
   },
   "file_extension": ".py",
   "mimetype": "text/x-python",
   "name": "python",
   "nbconvert_exporter": "python",
   "pygments_lexer": "ipython3",
   "version": "3.7.6"
  }
 },
 "nbformat": 4,
 "nbformat_minor": 4
}
